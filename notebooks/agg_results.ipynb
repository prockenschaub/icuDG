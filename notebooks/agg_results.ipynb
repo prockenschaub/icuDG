{
 "cells": [
  {
   "attachments": {},
   "cell_type": "markdown",
   "metadata": {},
   "source": [
    "### Analysis of results\n",
    "The following ipython notebook demonstrates how results from multiple sweeps can be analysed and summarised. "
   ]
  },
  {
   "cell_type": "code",
   "execution_count": 1,
   "metadata": {},
   "outputs": [
    {
     "name": "stderr",
     "output_type": "stream",
     "text": [
      "/opt/homebrew/Caskroom/miniconda/base/envs/clinicaldg-new/lib/python3.9/site-packages/tqdm/auto.py:22: TqdmWarning: IProgress not found. Please update jupyter and ipywidgets. See https://ipywidgets.readthedocs.io/en/stable/user_install.html\n"
     ]
    }
   ],
   "source": [
    "import plotnine as ggp\n",
    "from scipy.stats import wilcoxon, ttest_rel\n",
    "from utils import *\n",
    "\n",
    "dbs = {\n",
    "    'aumc': 'AUMCdb',\n",
    "    'hirid': 'HiRID',\n",
    "    'eicu': 'eICU',\n",
    "    'miiv': 'MIMIC',\n",
    "    'pooled (n-1)': 'pooled (n-1)',\n",
    "    'all': 'all'\n",
    "}\n",
    "\n",
    "algos = ['ERM', 'CORAL', 'VREx', 'Fishr', 'MLDG', 'GroupDRO']"
   ]
  },
  {
   "attachments": {},
   "cell_type": "markdown",
   "metadata": {},
   "source": [
    "First, we need to define which task and model architecture should be summarised. These experiments can then be loaded and aggregated using the helper functions defined in utils.  "
   ]
  },
  {
   "cell_type": "code",
   "execution_count": 2,
   "metadata": {},
   "outputs": [
    {
     "name": "stderr",
     "output_type": "stream",
     "text": [
      "1450it [00:00, 9122.25it/s]\n"
     ]
    }
   ],
   "source": [
    "task = 'icu-mortality'\n",
    "model = 'gru'\n",
    "path = Path(f'/Users/patrick/icuDG-outputs/{task}_{model}')\n",
    "\n",
    "# Load and aggregate the results\n",
    "grps = ['algorithm', 'val_env', 'test_env']\n",
    "res = load_model_performance(path)          # Load all results\n",
    "agg_res = aggregate_results(res, grps)      # Aggregate across trials\n",
    "bst_res = pick_best_result(agg_res, grps)   # Choose the best set\n",
    "summ = summ_mean_ste(bst_res, \"auroc\")      # Summarise best set\n",
    "\n",
    "# NOTE: this run summarised 5 trials of 10 hyperparameter combinations\n",
    "# - 50x ERMMerged\n",
    "# - 200x ERMID, ERM, CORAL, VREx, Fishr, MLDG, GroupDRO\n",
    "# = 1450 models "
   ]
  },
  {
   "attachments": {},
   "cell_type": "markdown",
   "metadata": {},
   "source": [
    "Next, we tabulate/plot the results of the different ERM runs (ERMMerged, ERMID, ERM)."
   ]
  },
  {
   "cell_type": "code",
   "execution_count": 3,
   "metadata": {},
   "outputs": [
    {
     "data": {
      "text/html": [
       "<div>\n",
       "<style scoped>\n",
       "    .dataframe tbody tr th:only-of-type {\n",
       "        vertical-align: middle;\n",
       "    }\n",
       "\n",
       "    .dataframe tbody tr th {\n",
       "        vertical-align: top;\n",
       "    }\n",
       "\n",
       "    .dataframe thead th {\n",
       "        text-align: right;\n",
       "    }\n",
       "</style>\n",
       "<table border=\"1\" class=\"dataframe\">\n",
       "  <thead>\n",
       "    <tr style=\"text-align: right;\">\n",
       "      <th>test_env</th>\n",
       "      <th>aumc</th>\n",
       "      <th>hirid</th>\n",
       "      <th>eicu</th>\n",
       "      <th>miiv</th>\n",
       "    </tr>\n",
       "    <tr>\n",
       "      <th>train_env</th>\n",
       "      <th></th>\n",
       "      <th></th>\n",
       "      <th></th>\n",
       "      <th></th>\n",
       "    </tr>\n",
       "  </thead>\n",
       "  <tbody>\n",
       "    <tr>\n",
       "      <th>aumc</th>\n",
       "      <td>0.843±0.005</td>\n",
       "      <td>0.740±0.012</td>\n",
       "      <td>0.771±0.003</td>\n",
       "      <td>0.771±0.005</td>\n",
       "    </tr>\n",
       "    <tr>\n",
       "      <th>hirid</th>\n",
       "      <td>0.735±0.007</td>\n",
       "      <td>0.842±0.009</td>\n",
       "      <td>0.735±0.003</td>\n",
       "      <td>0.757±0.004</td>\n",
       "    </tr>\n",
       "    <tr>\n",
       "      <th>eicu</th>\n",
       "      <td>0.811±0.006</td>\n",
       "      <td>0.777±0.007</td>\n",
       "      <td>0.842±0.001</td>\n",
       "      <td>0.820±0.004</td>\n",
       "    </tr>\n",
       "    <tr>\n",
       "      <th>miiv</th>\n",
       "      <td>0.816±0.005</td>\n",
       "      <td>0.800±0.006</td>\n",
       "      <td>0.825±0.002</td>\n",
       "      <td>0.861±0.002</td>\n",
       "    </tr>\n",
       "    <tr>\n",
       "      <th>pooled (n-1)</th>\n",
       "      <td>0.819±0.005</td>\n",
       "      <td>0.791±0.006</td>\n",
       "      <td>0.827±0.004</td>\n",
       "      <td>0.833±0.002</td>\n",
       "    </tr>\n",
       "    <tr>\n",
       "      <th>all</th>\n",
       "      <td>0.841±0.003</td>\n",
       "      <td>0.853±0.006</td>\n",
       "      <td>0.847±0.002</td>\n",
       "      <td>0.862±0.003</td>\n",
       "    </tr>\n",
       "  </tbody>\n",
       "</table>\n",
       "</div>"
      ],
      "text/plain": [
       "test_env             aumc        hirid         eicu         miiv\n",
       "train_env                                                       \n",
       "aumc          0.843±0.005  0.740±0.012  0.771±0.003  0.771±0.005\n",
       "hirid         0.735±0.007  0.842±0.009  0.735±0.003  0.757±0.004\n",
       "eicu          0.811±0.006  0.777±0.007  0.842±0.001  0.820±0.004\n",
       "miiv          0.816±0.005  0.800±0.006  0.825±0.002  0.861±0.002\n",
       "pooled (n-1)  0.819±0.005  0.791±0.006  0.827±0.004  0.833±0.002\n",
       "all           0.841±0.003  0.853±0.006  0.847±0.002  0.862±0.003"
      ]
     },
     "execution_count": 3,
     "metadata": {},
     "output_type": "execute_result"
    }
   ],
   "source": [
    "# tabulate ERM performance\n",
    "tbl = summ.melt(id_vars=grps+['hparams_seed'])\n",
    "\n",
    "tbl['train_env'] = tbl['test_env']\n",
    "tbl['test_env'] = tbl['variable'].str.extract('^([^_]*)(?=_)')\n",
    "\n",
    "tbl = tbl[tbl['algorithm'].str.contains(\"ERM\")]\n",
    "tbl = tbl[tbl['variable'].str.contains(\"auroc\")]\n",
    "tbl = tbl[(tbl['algorithm'] != 'ERM') | (tbl.train_env == tbl.test_env)]\n",
    "\n",
    "tbl.loc[tbl['algorithm'] == 'ERM', 'train_env'] = 'pooled (n-1)'\n",
    "\n",
    "erm = tbl.pivot_table(\n",
    "    values='value', \n",
    "    index='train_env', \n",
    "    columns = 'test_env', \n",
    "    aggfunc = lambda x: x\n",
    ")\n",
    "erm = erm.loc[list(dbs.keys()), list(dbs.keys())[:4]]\n",
    "erm"
   ]
  },
  {
   "cell_type": "code",
   "execution_count": 4,
   "metadata": {},
   "outputs": [
    {
     "data": {
      "image/png": "[encoded data removed]",
      "text/plain": [
       "<Figure size 640x950.897 with 1 Axes>"
      ]
     },
     "metadata": {
      "needs_background": "light"
     },
     "output_type": "display_data"
    },
    {
     "data": {
      "text/plain": [
       "<ggplot: (399106521)>"
      ]
     },
     "execution_count": 4,
     "metadata": {},
     "output_type": "execute_result"
    }
   ],
   "source": [
    "# Plot ERM performance\n",
    "plt = tbl.copy()\n",
    "plt['value_str'] = plt['value'].str.slice(stop=5)\n",
    "plt['value'] = plt['value_str'].astype(float)\n",
    "\n",
    "g = (ggp.ggplot(plt, ggp.aes('test_env', 'train_env'))\n",
    "     + ggp.geom_tile(ggp.aes(fill='value'), colour='white', size=1)\n",
    "     + ggp.geom_text(ggp.aes(label='value_str'), colour='white') \n",
    "     + ggp.geom_hline(yintercept=2.5, size=4, colour='white')\n",
    "     + ggp.coord_equal() \n",
    "     + ggp.scale_x_discrete(\n",
    "        limits=list(dbs.keys())[:4],\n",
    "        labels=list(dbs.values())[:4]\n",
    "       )\n",
    "     + ggp.scale_y_discrete(\n",
    "        limits=list(dbs.keys())[::-1],\n",
    "        labels=list(dbs.values())[::-1]\n",
    "       )\n",
    "     + ggp.scale_fill_cmap(cmap_name='Blues', limits=[0.5, 1.0], expand=(0, 0))\n",
    "     #+ ggp.guides(fill=ggp.guide_colourbar(barheight=50))\n",
    "     + ggp.guides(fill=None)\n",
    "     + ggp.labs(\n",
    "        x='\\nEvaluation dataset',\n",
    "        y='Training dataset',\n",
    "        fill=''\n",
    "       )\n",
    "     + ggp.theme_minimal()\n",
    "     + ggp.theme(\n",
    "        axis_text_x=ggp.element_text(size=12),\n",
    "        axis_text_y=ggp.element_text(size=12, angle=45), \n",
    "        legend_text=ggp.element_text(size=12),\n",
    "        panel_grid=ggp.element_blank()\n",
    "       )\n",
    "    )\n",
    "g"
   ]
  },
  {
   "cell_type": "markdown",
   "metadata": {},
   "source": [
    "We then compare the performance of the pooled (n-1) ERM to that of all included DG algorithms."
   ]
  },
  {
   "cell_type": "code",
   "execution_count": 5,
   "metadata": {},
   "outputs": [
    {
     "data": {
      "text/html": [
       "<div>\n",
       "<style scoped>\n",
       "    .dataframe tbody tr th:only-of-type {\n",
       "        vertical-align: middle;\n",
       "    }\n",
       "\n",
       "    .dataframe tbody tr th {\n",
       "        vertical-align: top;\n",
       "    }\n",
       "\n",
       "    .dataframe thead th {\n",
       "        text-align: right;\n",
       "    }\n",
       "</style>\n",
       "<table border=\"1\" class=\"dataframe\">\n",
       "  <thead>\n",
       "    <tr style=\"text-align: right;\">\n",
       "      <th>evaluated_in</th>\n",
       "      <th>aumc</th>\n",
       "      <th>hirid</th>\n",
       "      <th>eicu</th>\n",
       "      <th>miiv</th>\n",
       "    </tr>\n",
       "    <tr>\n",
       "      <th>algorithm</th>\n",
       "      <th></th>\n",
       "      <th></th>\n",
       "      <th></th>\n",
       "      <th></th>\n",
       "    </tr>\n",
       "  </thead>\n",
       "  <tbody>\n",
       "    <tr>\n",
       "      <th>ERM</th>\n",
       "      <td>0.819±0.005</td>\n",
       "      <td>0.791±0.006</td>\n",
       "      <td>0.827±0.004</td>\n",
       "      <td>0.833±0.002</td>\n",
       "    </tr>\n",
       "    <tr>\n",
       "      <th>CORAL</th>\n",
       "      <td>0.816±0.006</td>\n",
       "      <td>0.785±0.011</td>\n",
       "      <td>0.828±0.002</td>\n",
       "      <td>0.835±0.004</td>\n",
       "    </tr>\n",
       "    <tr>\n",
       "      <th>VREx</th>\n",
       "      <td>0.822±0.005</td>\n",
       "      <td>0.791±0.007</td>\n",
       "      <td>0.818±0.002</td>\n",
       "      <td>0.824±0.003</td>\n",
       "    </tr>\n",
       "    <tr>\n",
       "      <th>Fishr</th>\n",
       "      <td>0.803±0.009</td>\n",
       "      <td>0.679±0.006</td>\n",
       "      <td>0.803±0.003</td>\n",
       "      <td>0.690±0.029</td>\n",
       "    </tr>\n",
       "    <tr>\n",
       "      <th>MLDG</th>\n",
       "      <td>0.825±0.003</td>\n",
       "      <td>0.801±0.003</td>\n",
       "      <td>0.820±0.003</td>\n",
       "      <td>0.837±0.001</td>\n",
       "    </tr>\n",
       "    <tr>\n",
       "      <th>GroupDRO</th>\n",
       "      <td>0.823±0.007</td>\n",
       "      <td>0.801±0.008</td>\n",
       "      <td>0.826±0.002</td>\n",
       "      <td>0.848±0.002</td>\n",
       "    </tr>\n",
       "  </tbody>\n",
       "</table>\n",
       "</div>"
      ],
      "text/plain": [
       "evaluated_in         aumc        hirid         eicu         miiv\n",
       "algorithm                                                       \n",
       "ERM           0.819±0.005  0.791±0.006  0.827±0.004  0.833±0.002\n",
       "CORAL         0.816±0.006  0.785±0.011  0.828±0.002  0.835±0.004\n",
       "VREx          0.822±0.005  0.791±0.007  0.818±0.002  0.824±0.003\n",
       "Fishr         0.803±0.009  0.679±0.006  0.803±0.003  0.690±0.029\n",
       "MLDG          0.825±0.003  0.801±0.003  0.820±0.003  0.837±0.001\n",
       "GroupDRO      0.823±0.007  0.801±0.008  0.826±0.002  0.848±0.002"
      ]
     },
     "execution_count": 5,
     "metadata": {},
     "output_type": "execute_result"
    }
   ],
   "source": [
    "# tabulate DG performance\n",
    "tbl = summ.melt(id_vars=grps+['hparams_seed'])\n",
    "\n",
    "tbl['evaluated_in'] = tbl['variable'].str.extract('^([^_]*)(?=_)')\n",
    "\n",
    "tbl = tbl[~tbl['algorithm'].isin([\"ERMMerged\", \"ERMID\"])]\n",
    "tbl = tbl[tbl['test_env'] == tbl['evaluated_in']]\n",
    "\n",
    "dg = tbl.pivot_table(\n",
    "    values='value', \n",
    "    index='algorithm', \n",
    "    columns = 'evaluated_in', \n",
    "    aggfunc = lambda x: x\n",
    ")\n",
    "dg = dg.loc[algos, list(dbs.keys())[:4]]\n",
    "dg"
   ]
  },
  {
   "attachments": {},
   "cell_type": "markdown",
   "metadata": {},
   "source": [
    "Finally, we use a Wilcoxon rank-sum test to test for differences between "
   ]
  },
  {
   "cell_type": "code",
   "execution_count": 6,
   "metadata": {},
   "outputs": [
    {
     "name": "stderr",
     "output_type": "stream",
     "text": [
      "/var/folders/f4/k7z3btlx0tdgf95znm5mkj_w0000gn/T/ipykernel_29848/1401068676.py:25: FutureWarning: The behavior of indexing on a MultiIndex with a nested sequence of labels is deprecated and will change in a future version. `series.loc[label, sequence]` will raise if any members of 'sequence' or not present in the index's second level. To retain the old behavior, use `series.index.isin(sequence, level=1)`\n"
     ]
    },
    {
     "data": {
      "text/plain": [
       "algorithm  test_env\n",
       "CORAL      aumc        1.0000\n",
       "           eicu        1.0000\n",
       "           hirid       1.0000\n",
       "           miiv        0.8125\n",
       "VREx       aumc        0.6250\n",
       "           eicu        0.3125\n",
       "           hirid       1.0000\n",
       "           miiv        0.0625\n",
       "Fishr      aumc        0.3125\n",
       "           eicu        0.0625\n",
       "           hirid       0.0625\n",
       "           miiv        0.0625\n",
       "MLDG       aumc        0.1875\n",
       "           eicu        0.3125\n",
       "           hirid       0.4375\n",
       "           miiv        0.1250\n",
       "GroupDRO   aumc        0.8125\n",
       "           eicu        1.0000\n",
       "           hirid       0.4375\n",
       "           miiv        0.0625\n",
       "dtype: float64"
      ]
     },
     "execution_count": 6,
     "metadata": {},
     "output_type": "execute_result"
    }
   ],
   "source": [
    "# test for differences to ERM\n",
    "# NOTE: because of the small size of resamples, the smallest possible p-value is 0.0625\n",
    "\n",
    "exp = ['algorithm', 'test_env', 'hparams_seed']\n",
    "setting = tbl[exp]\n",
    "runs = setting.merge(res, on=exp)\n",
    "\n",
    "drop_cols = [c for c in runs.columns if \"es_\" in c or \"nll\" in c]\n",
    "perf = runs.drop(columns=drop_cols+['folder']).melt(id_vars=grps+['hparams_seed', 'trial'])\n",
    "perf = perf[perf['variable'].str.extract(\"^([a-z]+)\").values.squeeze() == perf['test_env'].values]\n",
    "\n",
    "paired = perf[perf.algorithm == \"ERM\"].\\\n",
    "    drop(columns=['algorithm', 'val_env', 'hparams_seed', 'variable']).\\\n",
    "    merge(\n",
    "        perf[perf.algorithm != \"ERM\"].drop(columns=['val_env', 'hparams_seed', 'variable']), \n",
    "        on=['test_env', 'trial'],\n",
    "        suffixes=['_erm', '_dg']\n",
    "    )\n",
    "\n",
    "def compare_to_erm(df, test=ttest_rel):\n",
    "    # Perform a one-sided test for hypothesis DG != ERM\n",
    "    res = test(df.value_dg.to_numpy(), df.value_erm.to_numpy(), alternative=\"two-sided\")\n",
    "    return res.pvalue\n",
    "\n",
    "paired.groupby(['algorithm', 'test_env']).apply(compare_to_erm, test=wilcoxon).loc[algos, :]\n"
   ]
  }
 ],
 "metadata": {
  "kernelspec": {
   "display_name": "clinicaldg-new",
   "language": "python",
   "name": "python3"
  },
  "language_info": {
   "codemirror_mode": {
    "name": "ipython",
    "version": 3
   },
   "file_extension": ".py",
   "mimetype": "text/x-python",
   "name": "python",
   "nbconvert_exporter": "python",
   "pygments_lexer": "ipython3",
   "version": "3.9.13"
  },
  "orig_nbformat": 4,
  "vscode": {
   "interpreter": {
    "hash": "b38954ae0c531d88f125c33d0f04941ad01e34d8f09fddf489edf91850c80e8c"
   }
  }
 },
 "nbformat": 4,
 "nbformat_minor": 2
}
